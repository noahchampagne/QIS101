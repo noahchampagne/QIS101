{
 "cells": [
  {
   "cell_type": "code",
   "execution_count": 1,
   "id": "a0890b85-eb8b-437a-b302-8872deb27909",
   "metadata": {
    "tags": []
   },
   "outputs": [
    {
     "data": {
      "text/latex": [
       "$\\displaystyle \\large\\mathbf{\\lvert\\psi\\rangle}=\\begin{bmatrix}-3-i\\\\[1em]-2i\\\\[1em]i\\\\[1em]2\\\\\\end{bmatrix}$"
      ],
      "text/plain": [
       "<IPython.core.display.Math object>"
      ]
     },
     "metadata": {},
     "output_type": "display_data"
    },
    {
     "data": {
      "text/latex": [
       "$\\displaystyle \\large\\textrm{Probability of outcome 2 = 5.2632%}$"
      ],
      "text/plain": [
       "<IPython.core.display.Math object>"
      ]
     },
     "metadata": {},
     "output_type": "display_data"
    }
   ],
   "source": [
    "\"\"\"dirac_notation.ipynb\"\"\"\n",
    "# Cell 1 - Complex Amplitudes - Probability\n",
    "\n",
    "from __future__ import annotations\n",
    "\n",
    "import typing\n",
    "\n",
    "import numpy as np\n",
    "from IPython.core.display import Math\n",
    "from qis101_utils import as_latex\n",
    "\n",
    "if typing.TYPE_CHECKING:\n",
    "    from numpy.typing import NDArray\n",
    "\n",
    "psi: NDArray[np.complex_] = np.array([-3 - 1j, -2j, 1j, 2])\n",
    "norm_psi: float = float(np.linalg.norm(psi))\n",
    "c2: float = abs(psi[2])\n",
    "\n",
    "display(as_latex(psi, prefix=r\"\\mathbf{\\lvert\\psi\\rangle}=\", column=True))\n",
    "display(\n",
    "    Math(rf\"\\large\\textrm{{Probability of outcome 2 = {c2**2 / norm_psi**2:.4%}}}\"))\n"
   ]
  },
  {
   "cell_type": "code",
   "execution_count": 8,
   "id": "d3a57077-358b-4b88-9cc3-9228bb92bfee",
   "metadata": {
    "tags": []
   },
   "outputs": [
    {
     "data": {
      "text/latex": [
       "$\\displaystyle \\large\\mathbf{s=}\\;(-2.3-11j)$"
      ],
      "text/plain": [
       "<IPython.core.display.Math object>"
      ]
     },
     "metadata": {},
     "output_type": "display_data"
    },
    {
     "data": {
      "text/latex": [
       "$\\displaystyle \\large\\mathbf{(s)\\lvert\\psi\\rangle}=\\begin{bmatrix}-4.1 + 35.3i\\\\[1em]-22 + 4.6i\\\\[1em]11-2.3i\\\\[1em]-4.6-22i\\\\\\end{bmatrix}$"
      ],
      "text/plain": [
       "<IPython.core.display.Math object>"
      ]
     },
     "metadata": {},
     "output_type": "display_data"
    },
    {
     "data": {
      "text/latex": [
       "$\\displaystyle \\large\\textrm{Probability of outcome 2 = 5.2632%}$"
      ],
      "text/plain": [
       "<IPython.core.display.Math object>"
      ]
     },
     "metadata": {},
     "output_type": "display_data"
    }
   ],
   "source": [
    "# Cell 2 - Multiplying a ket by a scalar\n",
    "\n",
    "s: complex = -2.3 - 11j\n",
    "s_psi: NDArray[np.complex_] = s * psi\n",
    "\n",
    "norm_s_psi: float = float(np.linalg.norm(s_psi))\n",
    "c: float = abs(s_psi[2])\n",
    "\n",
    "display(Math(rf\"\\large\\mathbf{{s=}}\\;{s}\"))\n",
    "display(as_latex(s_psi, prefix=r\"\\mathbf{(s)\\lvert\\psi\\rangle}=\", column=True))\n",
    "\n",
    "# print(f\"Probability of outcome 2 = {c**2 / norm_s_psi**2:.4%}\")\n",
    "display(\n",
    "    Math(rf\"\\large\\textrm{{Probability of outcome 2 = {c2**2 / norm_psi**2:.4%}}}\"))\n"
   ]
  },
  {
   "cell_type": "code",
   "execution_count": 9,
   "id": "24945b94-5e75-466d-a8c1-de3c462e067a",
   "metadata": {
    "tags": []
   },
   "outputs": [
    {
     "data": {
      "text/latex": [
       "$\\displaystyle \\large\\mathbf{\\lvert\\psi\\rangle}=\\begin{bmatrix}2-3i\\\\[1em]1 + 2i\\\\\\end{bmatrix}$"
      ],
      "text/plain": [
       "<IPython.core.display.Math object>"
      ]
     },
     "metadata": {},
     "output_type": "display_data"
    },
    {
     "data": {
      "text/latex": [
       "$\\displaystyle \\large\\mathbf{\\|\\psi\\|}=\\;4.2426$"
      ],
      "text/plain": [
       "<IPython.core.display.Math object>"
      ]
     },
     "metadata": {},
     "output_type": "display_data"
    },
    {
     "data": {
      "text/latex": [
       "$\\displaystyle \\large\\mathbf{\\frac{\\lvert\\psi\\rangle}{\\|\\psi\\|}}=\\begin{bmatrix}0.4714-\\frac{1}{\\sqrt{2}}i\\\\[1em]0.2357 + 0.4714i\\\\\\end{bmatrix}$"
      ],
      "text/plain": [
       "<IPython.core.display.Math object>"
      ]
     },
     "metadata": {},
     "output_type": "display_data"
    },
    {
     "data": {
      "text/latex": [
       "$\\displaystyle \\large\\mathbf{\\left[\\frac{\\lvert\\psi\\rangle}{\\|\\psi\\|}\\right]^2}=\\begin{bmatrix}0.72222\\\\[1em]0.27778\\\\\\end{bmatrix}$"
      ],
      "text/plain": [
       "<IPython.core.display.Math object>"
      ]
     },
     "metadata": {},
     "output_type": "display_data"
    }
   ],
   "source": [
    "# Cell 3 - Normalizing a ket\n",
    "\n",
    "psi: NDArray[np.complex_] = np.array([2 - 3j, 1 + 2j])\n",
    "\n",
    "norm_psi: float = float(np.linalg.norm(psi))\n",
    "normed_psi: NDArray[np.complex_] = psi / norm_psi\n",
    "\n",
    "display(as_latex(psi, prefix=r\"\\mathbf{\\lvert\\psi\\rangle}=\", column=True))\n",
    "\n",
    "display(Math(rf\"\\large\\mathbf{{\\|\\psi\\|}}=\\;{norm_psi:.4f}\"))\n",
    "\n",
    "display(\n",
    "    as_latex(\n",
    "        normed_psi, prefix=r\"\\mathbf{\\frac{\\lvert\\psi\\rangle}{\\|\\psi\\|}}=\", column=True\n",
    "    )\n",
    ")\n",
    "\n",
    "t1: NDArray[np.complex_] = normed_psi * normed_psi.conj()\n",
    "\n",
    "display(\n",
    "    as_latex(\n",
    "        t1,\n",
    "        prefix=r\"\\mathbf{\\left[\\frac{\\lvert\\psi\\rangle}{\\|\\psi\\|}\\right]^2}=\",\n",
    "        column=True,\n",
    "    )\n",
    ")\n"
   ]
  },
  {
   "cell_type": "code",
   "execution_count": 10,
   "id": "835ab5f8-5431-470d-be1c-07c1bee4515b",
   "metadata": {
    "tags": []
   },
   "outputs": [
    {
     "data": {
      "text/latex": [
       "$\\displaystyle \\large\\text{Start state:}\\;\\mathbf{\\lvert\\psi\\rangle}=\\begin{bmatrix}1\\\\[1em]-i\\\\\\end{bmatrix}$"
      ],
      "text/plain": [
       "<IPython.core.display.Math object>"
      ]
     },
     "metadata": {},
     "output_type": "display_data"
    },
    {
     "data": {
      "text/latex": [
       "$\\displaystyle \\large\\text{End state:}\\;\\mathbf{\\lvert\\phi\\rangle}=\\begin{bmatrix}i\\\\[1em]1\\\\\\end{bmatrix}$"
      ],
      "text/plain": [
       "<IPython.core.display.Math object>"
      ]
     },
     "metadata": {},
     "output_type": "display_data"
    },
    {
     "data": {
      "text/latex": [
       "$\\displaystyle \\large\\mathbf{\\langle\\phi\\lvert\\psi\\rangle}=\\;0.0000-2.0000j$"
      ],
      "text/plain": [
       "<IPython.core.display.Math object>"
      ]
     },
     "metadata": {},
     "output_type": "display_data"
    },
    {
     "data": {
      "text/latex": [
       "$\\displaystyle \\large\\mathbf{\\frac{\\langle\\phi\\lvert\\psi\\rangle}{\\lvert\\lvert\\phi\\rangle\\lvert\\;\\lvert\\lvert\\psi\\rangle\\lvert}=\\;}0.0000-1.0000j$"
      ],
      "text/plain": [
       "<IPython.core.display.Math object>"
      ]
     },
     "metadata": {},
     "output_type": "display_data"
    }
   ],
   "source": [
    "# Cell 4 - Transition amplitude\n",
    "\n",
    "# Start State\n",
    "psi: NDArray[np.complex_] = np.array([1, -1j])\n",
    "\n",
    "# End State\n",
    "phi: NDArray[np.complex_] = np.array([1j, 1])\n",
    "\n",
    "# Create Dirac \"bra-ket\"\n",
    "bra_phi: NDArray[np.complex_] = phi.conj().T\n",
    "bracket_phi_psi: NDArray[np.complex_] = np.dot(bra_phi, psi)\n",
    "\n",
    "# Calculate transition amplitude\n",
    "norm_psi: float = float(np.linalg.norm(psi))\n",
    "norm_phi: float = float(np.linalg.norm(phi))\n",
    "amp: NDArray[np.complex_] = bracket_phi_psi / (norm_psi * norm_phi)\n",
    "\n",
    "display(\n",
    "    as_latex(\n",
    "        psi, prefix=r\"\\text{Start state:}\\;\\mathbf{\\lvert\\psi\\rangle}=\", column=True\n",
    "    )\n",
    ")\n",
    "display(\n",
    "    as_latex(\n",
    "        phi, prefix=r\"\\text{End state:}\\;\\mathbf{\\lvert\\phi\\rangle}=\", column=True)\n",
    ")\n",
    "\n",
    "display(\n",
    "    Math(rf\"\\large\\mathbf{{\\langle\\phi\\lvert\\psi\\rangle}}=\\;{bracket_phi_psi:.4f}\"))\n",
    "\n",
    "display(\n",
    "    Math(\n",
    "        (\n",
    "            r\"\\large\\mathbf{\\frac{\\langle\\phi\\lvert\\psi\\rangle}{\\lvert\\lvert\\phi\\rangle\\lvert\\;\\lvert\\lvert\\psi\\rangle\\lvert}=\\;}\"\n",
    "            f\"{amp:.4f}\"\n",
    "        )\n",
    "    )\n",
    ")\n"
   ]
  }
 ],
 "metadata": {
  "kernelspec": {
   "display_name": "Python 3 (ipykernel)",
   "language": "python",
   "name": "python3"
  },
  "language_info": {
   "codemirror_mode": {
    "name": "ipython",
    "version": 3
   },
   "file_extension": ".py",
   "mimetype": "text/x-python",
   "name": "python",
   "nbconvert_exporter": "python",
   "pygments_lexer": "ipython3",
   "version": "3.9.16"
  },
  "vscode": {
   "interpreter": {
    "hash": "4431dc44d4f2686070e0fc53d953ad3cc7928e817d4e69983712ddc54c23870a"
   }
  }
 },
 "nbformat": 4,
 "nbformat_minor": 5
}
