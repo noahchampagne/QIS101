{
 "cells": [
  {
   "cell_type": "code",
   "execution_count": 3,
   "id": "c4039191-bcff-4b01-93cb-f85f6f6e8995",
   "metadata": {
    "tags": []
   },
   "outputs": [
    {
     "name": "stdout",
     "output_type": "stream",
     "text": [
      "x1 = 16.0\n",
      "x2 = -6.0\n",
      "x3 = -2.0\n",
      "x4 = -3.0\n"
     ]
    }
   ],
   "source": [
    "\"\"\"solve4x4.ipynb\"\"\"\n",
    "# Cell 1\n",
    "\n",
    "from __future__ import annotations\n",
    "\n",
    "import typing\n",
    "\n",
    "import numpy as np\n",
    "\n",
    "if typing.TYPE_CHECKING:\n",
    "    from numpy.typing import NDArray\n",
    "\n",
    "\n",
    "def main() -> None:\n",
    "    # Left and right are their respective sides of the equations while sols are the answers\n",
    "    left: NDArray[np.int_] = np.array(\n",
    "        [[1, 2, 1, -1], [3, 2, 4, 4], [4, 4, 3, 4], [2, 0, 1, 5]]\n",
    "    )\n",
    "    right: NDArray[np.int_] = np.array([5, 16, 22, 15])\n",
    "    sols: NDArray[np.float_] = np.linalg.solve(left, right)\n",
    "    print(f\"x1 = {sols[0]}\\nx2 = {sols[1]}\\nx3 = {sols[2]}\\nx4 = {sols[3]}\")\n",
    "\n",
    "\n",
    "main()\n"
   ]
  }
 ],
 "metadata": {
  "kernelspec": {
   "display_name": "Python 3 (ipykernel)",
   "language": "python",
   "name": "python3"
  },
  "language_info": {
   "codemirror_mode": {
    "name": "ipython",
    "version": 3
   },
   "file_extension": ".py",
   "mimetype": "text/x-python",
   "name": "python",
   "nbconvert_exporter": "python",
   "pygments_lexer": "ipython3",
   "version": "3.9.16"
  }
 },
 "nbformat": 4,
 "nbformat_minor": 5
}
