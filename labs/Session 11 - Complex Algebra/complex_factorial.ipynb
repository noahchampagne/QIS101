{
 "cells": [
  {
   "cell_type": "code",
   "execution_count": 5,
   "metadata": {},
   "outputs": [
    {
     "name": "stdout",
     "output_type": "stream",
     "text": [
      "i! = (0.49802-0.15495j)\n"
     ]
    }
   ],
   "source": [
    "\"\"\"complex_lattice.ipynb\"\"\"\n",
    "# Cell 1\n",
    "\n",
    "import scipy.special as spy  # type: ignore\n",
    "\n",
    "\n",
    "def main() -> None:\n",
    "    # Defines i\n",
    "    i: complex = complex(0, 1)\n",
    "    # Uses the gamma function to calculate i!\n",
    "    factorial: complex = spy.gamma(i + 1)\n",
    "    print(f\"i! = {factorial:>.5}\")\n",
    "\n",
    "\n",
    "main()\n"
   ]
  }
 ],
 "metadata": {
  "kernelspec": {
   "display_name": "qis101",
   "language": "python",
   "name": "python3"
  },
  "language_info": {
   "codemirror_mode": {
    "name": "ipython",
    "version": 3
   },
   "file_extension": ".py",
   "mimetype": "text/x-python",
   "name": "python",
   "nbconvert_exporter": "python",
   "pygments_lexer": "ipython3",
   "version": "3.9.16"
  },
  "orig_nbformat": 4
 },
 "nbformat": 4,
 "nbformat_minor": 2
}
