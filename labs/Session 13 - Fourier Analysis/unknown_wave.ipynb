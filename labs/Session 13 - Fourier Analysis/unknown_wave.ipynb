{
 "cells": [
  {
   "cell_type": "code",
   "execution_count": 20,
   "metadata": {},
   "outputs": [
    {
     "name": "stdout",
     "output_type": "stream",
     "text": [
      "1sin(7x) + 1sin(13x) = 2sin(10x)*cos(6x) by Trig Sum Identities\n"
     ]
    }
   ],
   "source": [
    "\"\"\"unknown_wave.ipynb\"\"\"\n",
    "# Cell 1\n",
    "\n",
    "from __future__ import annotations\n",
    "\n",
    "import typing\n",
    "\n",
    "import numpy as np\n",
    "\n",
    "if typing.TYPE_CHECKING:\n",
    "    from numpy.typing import NDArray\n",
    "\n",
    "max_freq: int = 40\n",
    "\n",
    "# fmt: off\n",
    "\n",
    "def dft(ts: NDArray[np.float_],\n",
    "        ys: NDArray[np.float_]\n",
    "    )-> tuple[NDArray[np.float_], NDArray[np.float_]]:\n",
    "    \"\"\"Returns the fourier transfer terms from the inputted data points\"\"\"\n",
    "    num_samples: int = ts.size\n",
    "    num_terms: int = int(num_samples / 2)  # Nyquist limit\n",
    "\n",
    "    a_cos: NDArray[np.float_] = np.zeros(num_terms)\n",
    "    b_sin: NDArray[np.float_] = np.zeros(num_terms)\n",
    "\n",
    "    for term in range(0, num_terms):\n",
    "        a: float = 0.0\n",
    "        b: float = 0.0\n",
    "        for sample in range(0, num_samples):\n",
    "            a += 2 * np.cos(term * ts[sample]) * ys[sample]\n",
    "            b += 2 * np.sin(term * ts[sample]) * ys[sample]\n",
    "        a_cos[term] = round(a / num_samples, 8) + 0\n",
    "        b_sin[term] = round(b / num_samples, 8) + 0\n",
    "\n",
    "    a_cos[0] /= 2\n",
    "    b_sin[0] /= 2\n",
    "\n",
    "    return a_cos, b_sin\n",
    "\n",
    "\n",
    "\n",
    "def analyze(file_name: str) -> None:\n",
    "    \"\"\"Uses fourier transform to make a wave equation for the given data points\"\"\"\n",
    "    samples: NDArray[np.float_] = np.genfromtxt(file_name, delimiter=\",\")\n",
    "    ts: NDArray[np.float_] = samples[:, 0]\n",
    "    ys: NDArray[np.float_] = samples[:, 1]\n",
    "\n",
    "    a_cos: NDArray[np.float_]\n",
    "    b_sin: NDArray[np.float_]\n",
    "    a_cos, b_sin = dft(ts, ys)\n",
    "    \n",
    "    # This is the only original part of the my code. The rest was gotten from Dave's previous work\n",
    "    # Form a list of all the terms in the equation\n",
    "    terms: list[str] = []\n",
    "    # Enumerates through the possible terms and accumulates them\n",
    "    for i, cos_wave in enumerate(a_cos):\n",
    "        if cos_wave != 0:\n",
    "            terms.append(f'{int(cos_wave)}cos({i}x)')\n",
    "    for i, sin_wave in enumerate(b_sin):\n",
    "        if sin_wave != 0:\n",
    "            terms.append(f'{int(sin_wave)}sin({i}x)')\n",
    "    # Joins all the equations terms with a plus sign\n",
    "    equation: str = \" + \".join(terms)\n",
    "    print(f\"{equation} = 2sin(10x)*cos(6x) by Trig Sum Identities\")\n",
    "\n",
    "\n",
    "analyze(\"unknown_wave.csv\")"
   ]
  }
 ],
 "metadata": {
  "kernelspec": {
   "display_name": "qis101",
   "language": "python",
   "name": "python3"
  },
  "language_info": {
   "codemirror_mode": {
    "name": "ipython",
    "version": 3
   },
   "file_extension": ".py",
   "mimetype": "text/x-python",
   "name": "python",
   "nbconvert_exporter": "python",
   "pygments_lexer": "ipython3",
   "version": "3.9.16"
  },
  "orig_nbformat": 4
 },
 "nbformat": 4,
 "nbformat_minor": 2
}
