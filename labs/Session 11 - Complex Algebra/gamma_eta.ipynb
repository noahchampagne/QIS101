{
 "cells": [
  {
   "cell_type": "code",
   "execution_count": 1,
   "id": "e3e11c5b-b005-4278-bd90-df370b9110eb",
   "metadata": {
    "tags": []
   },
   "outputs": [
    {
     "data": {
      "text/latex": [
       "$\\displaystyle 5!=120$"
      ],
      "text/plain": [
       "<IPython.core.display.Math object>"
      ]
     },
     "metadata": {},
     "output_type": "display_data"
    },
    {
     "data": {
      "text/latex": [
       "$\\displaystyle 5!=120$"
      ],
      "text/plain": [
       "<IPython.core.display.Math object>"
      ]
     },
     "metadata": {},
     "output_type": "display_data"
    }
   ],
   "source": [
    "\"\"\"gamma_eta.ipynb\"\"\"\n",
    "# Cell 1\n",
    "\n",
    "\n",
    "import numpy as np\n",
    "from IPython.core.display import Math\n",
    "from mpmath import altzeta  # type: ignore\n",
    "from scipy.integrate import quad  # type: ignore\n",
    "from scipy.special import factorial  # type: ignore\n",
    "\n",
    "# We cannot raise e^x to a greater exponent value than this\n",
    "max_exponent = int(np.log(np.finfo(np.longdouble).max) - 1)\n",
    "\n",
    "\n",
    "def f(x: int, s: int) -> float:\n",
    "    if x < max_exponent:\n",
    "        return np.power(x, s - 1) / (np.exp(x) + 1)\n",
    "    return 0.0\n",
    "\n",
    "\n",
    "def main() -> None:\n",
    "    # We want to calculate 5!\n",
    "    n: int = 5\n",
    "\n",
    "    # Gamma[n+1] == n!\n",
    "    s: int = n + 1\n",
    "\n",
    "    # Calculate the Dirichlet's Eta value for s\n",
    "    # See https://en.wikipedia.org/wiki/Dirichlet_eta_function\n",
    "    eta: float = float(altzeta(s))  # type: ignore\n",
    "\n",
    "    # Use scipy to integrate f(x, s) from 0 to 1000\n",
    "    integral: float = quad(f, 0, 1000, args=(s,))[0]\n",
    "\n",
    "    # Calculate gamma, given both the eta and integral values\n",
    "    # See https://en.wikipedia.org/wiki/Gamma_function\n",
    "    gamma: int = int(integral / eta)\n",
    "\n",
    "    display(Math(rf\"{n}!={gamma}\"))\n",
    "    display(Math(rf\"{n}!={factorial(n, exact=True)}\"))\n",
    "\n",
    "\n",
    "main()\n"
   ]
  }
 ],
 "metadata": {
  "kernelspec": {
   "display_name": "Python 3 (ipykernel)",
   "language": "python",
   "name": "python3"
  },
  "language_info": {
   "codemirror_mode": {
    "name": "ipython",
    "version": 3
   },
   "file_extension": ".py",
   "mimetype": "text/x-python",
   "name": "python",
   "nbconvert_exporter": "python",
   "pygments_lexer": "ipython3",
   "version": "3.9.16"
  },
  "vscode": {
   "interpreter": {
    "hash": "4431dc44d4f2686070e0fc53d953ad3cc7928e817d4e69983712ddc54c23870a"
   }
  }
 },
 "nbformat": 4,
 "nbformat_minor": 5
}
