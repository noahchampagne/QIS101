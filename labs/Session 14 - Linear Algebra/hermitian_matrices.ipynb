{
 "cells": [
  {
   "cell_type": "code",
   "execution_count": 30,
   "id": "a114f0a9-a0bf-4004-ba16-c135403f320e",
   "metadata": {
    "tags": []
   },
   "outputs": [
    {
     "data": {
      "text/latex": [
       "$\\displaystyle \\large\\mathbf{Hermitian}=\\begin{bmatrix}8 &6+i\\\\[1em]6-i &-1\\\\\\end{bmatrix}$"
      ],
      "text/plain": [
       "<IPython.core.display.Math object>"
      ]
     },
     "metadata": {},
     "output_type": "display_data"
    },
    {
     "data": {
      "text/latex": [
       "$\\displaystyle \\large\\mathbf{Inverse}=\\begin{bmatrix}0.02222 &0.13333 + 0.02222i\\\\[1em]0.13333-0.02222i &-0.17778\\\\\\end{bmatrix}$"
      ],
      "text/plain": [
       "<IPython.core.display.Math object>"
      ]
     },
     "metadata": {},
     "output_type": "display_data"
    },
    {
     "name": "stdout",
     "output_type": "stream",
     "text": [
      "Are both Hermitian? True\n"
     ]
    }
   ],
   "source": [
    "\"\"\"hermitian_matrices.ipynb\"\"\"\n",
    "\n",
    "# Cell 1 - The inverse of a Hermitian matrix is also Hermitian\n",
    "\n",
    "from __future__ import annotations\n",
    "\n",
    "import typing\n",
    "\n",
    "import numpy as np\n",
    "from qis101_utils import as_latex\n",
    "\n",
    "if typing.TYPE_CHECKING:\n",
    "    from numpy.typing import NDArray\n",
    "\n",
    "from scipy.linalg import ishermitian\n",
    "\n",
    "\n",
    "def main() -> None:\n",
    "    # Creates the hermitian array and its inverse\n",
    "    hermitian: NDArray[np.complex_] = np.array(\n",
    "        [[8, complex(6, 1)], [complex(6, -1), -1]]\n",
    "    )\n",
    "    inverse: NDArray[np.complex_] = np.linalg.inv(hermitian)\n",
    "\n",
    "    # Displays the matrixes\n",
    "    display(as_latex(hermitian, prefix=r\"\\mathbf{Hermitian}=\"))\n",
    "    display(as_latex(inverse, prefix=r\"\\mathbf{Inverse}=\"))\n",
    "    # Checks that they are both hermitian using scipy function\n",
    "    print(f\"Are both Hermitian? {ishermitian(hermitian) and ishermitian(inverse)}\")\n",
    "\n",
    "\n",
    "main()\n"
   ]
  },
  {
   "cell_type": "code",
   "execution_count": 29,
   "id": "ccf20f1b-fb7f-4246-b58c-dd7a01965f03",
   "metadata": {
    "tags": []
   },
   "outputs": [
    {
     "data": {
      "text/latex": [
       "$\\displaystyle \\large\\mathbf{Hermitian}=\\begin{bmatrix}8 &6+i\\\\[1em]6-i &-1\\\\\\end{bmatrix}$"
      ],
      "text/plain": [
       "<IPython.core.display.Math object>"
      ]
     },
     "metadata": {},
     "output_type": "display_data"
    },
    {
     "data": {
      "text/latex": [
       "$\\displaystyle \\large\\mathbf{Raised}=\\begin{bmatrix}1067 &564 + 94i\\\\[1em]564-94i &221\\\\\\end{bmatrix}$"
      ],
      "text/plain": [
       "<IPython.core.display.Math object>"
      ]
     },
     "metadata": {},
     "output_type": "display_data"
    },
    {
     "name": "stdout",
     "output_type": "stream",
     "text": [
      "Are both Hermitian? True\n"
     ]
    }
   ],
   "source": [
    "# Cell 2 - A Hermitian matrix raised to an integer\n",
    "#          exponent yields another Hermitian matrix\n",
    "\n",
    "from __future__ import annotations\n",
    "\n",
    "import typing\n",
    "\n",
    "import numpy as np\n",
    "from qis101_utils import as_latex\n",
    "\n",
    "if typing.TYPE_CHECKING:\n",
    "    from numpy.typing import NDArray\n",
    "\n",
    "from scipy.linalg import ishermitian\n",
    "\n",
    "\n",
    "def main() -> None:\n",
    "    # Creates the hermitian array and it raised to an integer exponent\n",
    "    hermitian: NDArray[np.complex_] = np.array(\n",
    "        [[8, complex(6, 1)], [complex(6, -1), -1]]\n",
    "    )\n",
    "    raised: NDArray[np.complex_] = np.linalg.matrix_power(hermitian, 3)\n",
    "\n",
    "    # Displays the matrixes\n",
    "    display(as_latex(hermitian, prefix=r\"\\mathbf{Hermitian}=\"))\n",
    "    display(as_latex(raised, prefix=r\"\\mathbf{Raised}=\"))\n",
    "    # Checks that they are both hermitian using scipy function\n",
    "    print(f\"Are both Hermitian? {ishermitian(hermitian) and ishermitian(raised)}\")\n",
    "\n",
    "\n",
    "main()\n"
   ]
  }
 ],
 "metadata": {
  "kernelspec": {
   "display_name": "Python 3 (ipykernel)",
   "language": "python",
   "name": "python3"
  },
  "language_info": {
   "codemirror_mode": {
    "name": "ipython",
    "version": 3
   },
   "file_extension": ".py",
   "mimetype": "text/x-python",
   "name": "python",
   "nbconvert_exporter": "python",
   "pygments_lexer": "ipython3",
   "version": "3.9.16"
  }
 },
 "nbformat": 4,
 "nbformat_minor": 5
}
