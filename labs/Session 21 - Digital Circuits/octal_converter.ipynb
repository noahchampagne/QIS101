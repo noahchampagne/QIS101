{
 "cells": [
  {
   "cell_type": "code",
   "execution_count": 33,
   "metadata": {},
   "outputs": [
    {
     "name": "stdout",
     "output_type": "stream",
     "text": [
      "2323 in octal = 1,235 in decimal\n"
     ]
    }
   ],
   "source": [
    "\"\"\"octal_converter.ipynb\"\"\"\n",
    "# Cell 1 - Octal to Decimal\n",
    "\n",
    "import numpy as np\n",
    "\n",
    "\n",
    "def octal_to_decimal(octal: str) -> int:\n",
    "    # Reverse string 'octal' because the LSB must be in first position\n",
    "    octal_rev = octal[::-1]\n",
    "    sum = 0\n",
    "    for position in range(len(octal_rev)):\n",
    "        # The weight follows the octal powers\n",
    "        weight: int = pow(8, position)\n",
    "        digit = int(octal_rev[position])\n",
    "        sum += digit * weight\n",
    "    return sum\n",
    "\n",
    "\n",
    "b = \"2323\"\n",
    "d: int = octal_to_decimal(b)\n",
    "print(f\"{b} in octal = {d:,} in decimal\")\n"
   ]
  },
  {
   "cell_type": "code",
   "execution_count": 34,
   "metadata": {},
   "outputs": [
    {
     "name": "stdout",
     "output_type": "stream",
     "text": [
      "1,235 in decimal = 2323 in octal\n"
     ]
    }
   ],
   "source": [
    "# Cell 2 - Decimal to Octal\n",
    "\n",
    "import numpy as np\n",
    "\n",
    "\n",
    "def decimal_to_octal(decimal: int) -> int:\n",
    "    octal: str = \"\"\n",
    "    while decimal > 0:\n",
    "        # Use the mod operator to convert the decimal number to an octal number\n",
    "        octal += str(decimal % 8)\n",
    "        decimal = int(decimal / 8)\n",
    "    # Reverse string 'octal' because the LSB must be in last position\n",
    "    octal = octal[::-1]\n",
    "    return b\n",
    "\n",
    "\n",
    "octal: int = decimal_to_octal(d)\n",
    "print(f\"{d:,} in decimal = {b} in octal\")\n"
   ]
  },
  {
   "cell_type": "code",
   "execution_count": 35,
   "metadata": {},
   "outputs": [
    {
     "name": "stdout",
     "output_type": "stream",
     "text": [
      "2323 in octal = 1235 in decimal\n"
     ]
    }
   ],
   "source": [
    "# Cell 3 - Calling built-in functions for base conversion\n",
    "\n",
    "# Better to call the built-in integer constructor\n",
    "octal: str = \"2323\"\n",
    "decimal: int = int(octal, 8)\n",
    "print(f\"{octal} in octal = {decimal} in decimal\")\n"
   ]
  },
  {
   "cell_type": "code",
   "execution_count": 36,
   "metadata": {},
   "outputs": [
    {
     "name": "stdout",
     "output_type": "stream",
     "text": [
      "1,235 in decimal = 2323 in octal\n"
     ]
    }
   ],
   "source": [
    "# Cell 4 - Calling built-in functions for base conversion\n",
    "# Using numpy's built-in base converter\n",
    "octal: str = np.base_repr(decimal, base=8)\n",
    "print(f\"{d:,} in decimal = {octal} in octal\")\n"
   ]
  }
 ],
 "metadata": {
  "kernelspec": {
   "display_name": "qis101",
   "language": "python",
   "name": "python3"
  },
  "language_info": {
   "codemirror_mode": {
    "name": "ipython",
    "version": 3
   },
   "file_extension": ".py",
   "mimetype": "text/x-python",
   "name": "python",
   "nbconvert_exporter": "python",
   "pygments_lexer": "ipython3",
   "version": "3.9.16"
  },
  "orig_nbformat": 4
 },
 "nbformat": 4,
 "nbformat_minor": 2
}
